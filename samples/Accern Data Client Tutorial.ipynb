{
 "cells": [
  {
   "cell_type": "markdown",
   "id": "403184e6",
   "metadata": {},
   "source": [
    "## Installing the library"
   ]
  },
  {
   "cell_type": "code",
   "execution_count": null,
   "id": "a15648ce",
   "metadata": {},
   "outputs": [],
   "source": [
    "! pip install accern-data[jupyter]"
   ]
  },
  {
   "cell_type": "markdown",
   "id": "47656ea2",
   "metadata": {},
   "source": [
    "## Using the library"
   ]
  },
  {
   "cell_type": "markdown",
   "id": "1307723b",
   "metadata": {},
   "source": [
    "### Importing library"
   ]
  },
  {
   "cell_type": "code",
   "execution_count": 2,
   "id": "f810d664",
   "metadata": {},
   "outputs": [],
   "source": [
    "from accern_data import create_data_client"
   ]
  },
  {
   "cell_type": "markdown",
   "id": "b9d90a23",
   "metadata": {},
   "source": [
    "### Creating client"
   ]
  },
  {
   "cell_type": "code",
   "execution_count": 5,
   "id": "7b807a1e",
   "metadata": {},
   "outputs": [],
   "source": [
    "# NOTE: Below url & token are reserved sample values. Use your own url & token to get desired results.\n",
    "url = \"https://api.example.com/\"\n",
    "token = \"SomeRandomToken\""
   ]
  },
  {
   "cell_type": "code",
   "execution_count": 6,
   "id": "4ede84d9",
   "metadata": {},
   "outputs": [],
   "source": [
    "client = create_data_client(url=url, token=token)"
   ]
  },
  {
   "cell_type": "markdown",
   "id": "8252a28c",
   "metadata": {},
   "source": [
    "### Downloading the data"
   ]
  },
  {
   "cell_type": "code",
   "execution_count": 7,
   "id": "3c2e2c00",
   "metadata": {},
   "outputs": [],
   "source": [
    "start_date=\"2022-01-03\"\n",
    "end_date=\"2022-03-04\"\n",
    "output_path=\".\"\n",
    "output_pattern=\"data\""
   ]
  },
  {
   "cell_type": "code",
   "execution_count": 8,
   "id": "bc023c5a",
   "metadata": {},
   "outputs": [
    {
     "data": {
      "application/vnd.jupyter.widget-view+json": {
       "model_id": "472bd83fafe347b09057a40b0f2aa4c4",
       "version_major": 2,
       "version_minor": 0
      },
      "text/plain": [
       "|          |   0% [0/61]"
      ]
     },
     "metadata": {},
     "output_type": "display_data"
    }
   ],
   "source": [
    "client.download_range(\n",
    "    start_date=start_date,\n",
    "    end_date=end_date,\n",
    "    output_pattern=output_pattern,\n",
    "    output_path=output_path,\n",
    "    mode=(\"csv\", False)\n",
    ")"
   ]
  }
 ],
 "metadata": {
  "kernelspec": {
   "display_name": "Python 3 (ipykernel)",
   "language": "python",
   "name": "python3"
  },
  "language_info": {
   "codemirror_mode": {
    "name": "ipython",
    "version": 3
   },
   "file_extension": ".py",
   "mimetype": "text/x-python",
   "name": "python",
   "nbconvert_exporter": "python",
   "pygments_lexer": "ipython3",
   "version": "3.8.13"
  }
 },
 "nbformat": 4,
 "nbformat_minor": 5
}
